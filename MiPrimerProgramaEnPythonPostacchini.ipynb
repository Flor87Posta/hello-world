{
  "nbformat": 4,
  "nbformat_minor": 0,
  "metadata": {
    "colab": {
      "name": "Clase0.ipynb",
      "provenance": [],
      "authorship_tag": "ABX9TyMlTJ55EHB3qEiNHntTghcL",
      "include_colab_link": true
    },
    "kernelspec": {
      "name": "python3",
      "display_name": "Python 3"
    },
    "language_info": {
      "name": "python"
    }
  },
  "cells": [
    {
      "cell_type": "markdown",
      "metadata": {
        "id": "view-in-github",
        "colab_type": "text"
      },
      "source": [
        "<a href=\"https://colab.research.google.com/github/Flor87Posta/hello-world/blob/main/MiPrimerProgramaEnPythonPostacchini.ipynb\" target=\"_parent\"><img src=\"https://colab.research.google.com/assets/colab-badge.svg\" alt=\"Open In Colab\"/></a>"
      ]
    },
    {
      "cell_type": "code",
      "execution_count": 5,
      "metadata": {
        "id": "Rx7JpgCEusUx",
        "colab": {
          "base_uri": "https://localhost:8080/"
        },
        "outputId": "7d7e313a-47cd-4306-9f33-851ae19f66b1"
      },
      "outputs": [
        {
          "output_type": "stream",
          "name": "stdout",
          "text": [
            "ingrese nota 1:10\n",
            "ingrese nota 2:9\n",
            "9.399999999999999\n"
          ]
        }
      ],
      "source": [
        "#nota final\n",
        "value=int(input(\"ingrese nota 1:\"))*0.40\n",
        "value2=int(input(\"ingrese nota 2:\"))*0.60\n",
        "final=value+value2\n",
        "print(final)\n"
      ]
    }
  ]
}